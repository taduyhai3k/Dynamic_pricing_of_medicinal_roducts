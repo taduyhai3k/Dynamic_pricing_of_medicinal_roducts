{
 "cells": [
  {
   "cell_type": "code",
   "execution_count": null,
   "metadata": {},
   "outputs": [],
   "source": [
    "import pandas as pd"
   ]
  },
  {
   "cell_type": "code",
   "execution_count": null,
   "metadata": {},
   "outputs": [],
   "source": [
    "#Dữ liệu cho mô hình học máy có giám sát là my_train1\n",
    "item =  pd.read_csv(\"D:/Học tập/Học kì 20231/Hệ hĩnh trợ quyết độ/DMC_2017_task/items.csv\", sep = \"|\")\n",
    "item.drop_duplicates(keep='first', inplace=True)\n",
    "item['pharmForm'] = item['pharmForm'].str.upper()\n",
    "\n",
    "train  = pd.read_csv(\"D:/Học tập/Học kì 20231/Hệ hĩnh trợ quyết độ/DMC_2017_task/train.csv\", sep = \"|\")\n",
    "\n",
    "mytrain = train.drop(['day','lineID','revenue', 'click', 'basket', 'order'], axis =1)\n",
    "mytrain = mytrain.merge(item, on = 'pid')\n",
    "my_train = mytrain.drop_duplicates(keep = 'first', inplace = True)\n",
    "my_train1 = mytrain.drop(['campaignIndex'], axis=1)\n",
    "object_columns = [col for col in my_train1.columns if my_train1[col].dtype == 'O']\n",
    "label_encoder = LabelEncoder()\n",
    "for col in object_columns:\n",
    "    my_train1[col] = label_encoder.fit_transform(my_train1[col])\n",
    "my_train1 = my_train1.fillna(0)\n"
   ]
  },
  {
   "cell_type": "code",
   "execution_count": null,
   "metadata": {},
   "outputs": [],
   "source": []
  }
 ],
 "metadata": {
  "kernelspec": {
   "display_name": "Python 3",
   "language": "python",
   "name": "python3"
  },
  "language_info": {
   "name": "python",
   "version": "3.10.9"
  }
 },
 "nbformat": 4,
 "nbformat_minor": 2
}
