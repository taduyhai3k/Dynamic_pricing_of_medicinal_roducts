{
 "cells": [
  {
   "cell_type": "code",
   "execution_count": 8,
   "metadata": {},
   "outputs": [],
   "source": [
    "import numpy as np\n",
    "import tensorflow as tf\n",
    "from sklearn.model_selection import train_test_split\n",
    "from sklearn.metrics import mean_squared_error, mean_absolute_error, r2_score\n",
    "from tqdm import tqdm"
   ]
  },
  {
   "cell_type": "code",
   "execution_count": 9,
   "metadata": {},
   "outputs": [],
   "source": [
    "import json\n",
    "\n",
    "# Đường dẫn đến tệp tin JSON\n",
    "file_path = 'D:/Học tập/Học kì 20231\\Hệ hĩnh trợ quyết độ/DMC_2017_task/output.json'\n",
    "\n",
    "# Mở và đọc tệp tin JSON\n",
    "with open(file_path, 'r') as file:\n",
    "    data = json.load(file)"
   ]
  },
  {
   "cell_type": "code",
   "execution_count": 10,
   "metadata": {},
   "outputs": [],
   "source": [
    "X_data=[]\n",
    "Y_data=[]\n",
    "for key, value in data.items():\n",
    "    X_tmp = []\n",
    "    Y_tmp =[]\n",
    "    for i in range(len(value)-1):\n",
    "        X_list = list(value[i].values())[2:]\n",
    "        X_tmp.append(X_list)\n",
    "        Y_tmp.append(list(value[i+1].values())[-1])\n",
    "    X_data.append(X_tmp)\n",
    "    Y_data.append(Y_tmp)"
   ]
  },
  {
   "cell_type": "code",
   "execution_count": 4,
   "metadata": {},
   "outputs": [],
   "source": [
    "X_train, X_test, Y_train, Y_test = train_test_split(X_data, Y_data, test_size= 0.2, random_state=42)"
   ]
  },
  {
   "cell_type": "code",
   "execution_count": 5,
   "metadata": {},
   "outputs": [],
   "source": [
    "X_train_new = []\n",
    "Y_train_new = []\n",
    "for i in range(len(X_train)):\n",
    "    if (len(X_train[i])) > 10:\n",
    "        X_train_new.append(X_train[i])\n",
    "        Y_train_new.append(Y_train[i])\n"
   ]
  },
  {
   "cell_type": "code",
   "execution_count": 6,
   "metadata": {},
   "outputs": [
    {
     "name": "stdout",
     "output_type": "stream",
     "text": [
      "WARNING:tensorflow:From d:\\Python\\Python310\\lib\\site-packages\\keras\\src\\layers\\rnn\\simple_rnn.py:130: The name tf.executing_eagerly_outside_functions is deprecated. Please use tf.compat.v1.executing_eagerly_outside_functions instead.\n",
      "\n",
      "WARNING:tensorflow:From d:\\Python\\Python310\\lib\\site-packages\\keras\\src\\optimizers\\__init__.py:309: The name tf.train.Optimizer is deprecated. Please use tf.compat.v1.train.Optimizer instead.\n",
      "\n"
     ]
    }
   ],
   "source": [
    "\n",
    "model = tf.keras.Sequential([\n",
    "    tf.keras.layers.SimpleRNN(80, activation='relu', \n",
    "                              input_shape=(None, 1),\n",
    "                              dropout=0.2),\n",
    "    tf.keras.layers.Dense(1)  \n",
    "])\n",
    "\n",
    "\n",
    "model.compile(optimizer='adam', loss='mse')\n"
   ]
  },
  {
   "cell_type": "code",
   "execution_count": 8,
   "metadata": {},
   "outputs": [
    {
     "name": "stderr",
     "output_type": "stream",
     "text": [
      "100%|██████████| 4330/4330 [07:04<00:00, 10.21it/s]\n"
     ]
    },
    {
     "name": "stdout",
     "output_type": "stream",
     "text": [
      "0.809911535928671\n"
     ]
    },
    {
     "name": "stderr",
     "output_type": "stream",
     "text": [
      "100%|██████████| 4330/4330 [06:29<00:00, 11.11it/s]\n"
     ]
    },
    {
     "name": "stdout",
     "output_type": "stream",
     "text": [
      "0.46886429525183954\n"
     ]
    },
    {
     "name": "stderr",
     "output_type": "stream",
     "text": [
      "100%|██████████| 4330/4330 [06:23<00:00, 11.28it/s]\n"
     ]
    },
    {
     "name": "stdout",
     "output_type": "stream",
     "text": [
      "0.45902351014616605\n"
     ]
    },
    {
     "name": "stderr",
     "output_type": "stream",
     "text": [
      "100%|██████████| 4330/4330 [06:38<00:00, 10.87it/s]\n"
     ]
    },
    {
     "name": "stdout",
     "output_type": "stream",
     "text": [
      "0.43134653637017134\n"
     ]
    },
    {
     "name": "stderr",
     "output_type": "stream",
     "text": [
      "100%|██████████| 4330/4330 [06:55<00:00, 10.42it/s]\n"
     ]
    },
    {
     "name": "stdout",
     "output_type": "stream",
     "text": [
      "0.41248371163183545\n"
     ]
    },
    {
     "name": "stderr",
     "output_type": "stream",
     "text": [
      "100%|██████████| 4330/4330 [07:20<00:00,  9.84it/s]"
     ]
    },
    {
     "name": "stdout",
     "output_type": "stream",
     "text": [
      "0.4042208477678411\n"
     ]
    },
    {
     "name": "stderr",
     "output_type": "stream",
     "text": [
      "\n"
     ]
    }
   ],
   "source": [
    "for _ in range(6):\n",
    "    loss=0\n",
    "    for i in tqdm(range(len(X_train_new))):\n",
    "        hist =  model.fit(X_train_new[i], Y_train_new[i], epochs=1, verbose = 0)\n",
    "        loss += hist.history['loss'][0]\n",
    "    print(loss/len(X_train))"
   ]
  },
  {
   "cell_type": "code",
   "execution_count": 9,
   "metadata": {},
   "outputs": [
    {
     "name": "stderr",
     "output_type": "stream",
     "text": [
      "d:\\Python\\Python310\\lib\\site-packages\\keras\\src\\engine\\training.py:3103: UserWarning: You are saving your model as an HDF5 file via `model.save()`. This file format is considered legacy. We recommend using instead the native Keras format, e.g. `model.save('my_model.keras')`.\n",
      "  saving_api.save_model(\n"
     ]
    }
   ],
   "source": [
    "# Lưu mô hình\n",
    "model.save('D:/Học tập/Học kì 20231/Hệ hĩnh trợ quyết độ/DMC_2017_task/RNN2.h5', save_format='h5')  # Lưu mô hình vào thư mục hiện tại với tên là 'my_model'\n"
   ]
  },
  {
   "cell_type": "code",
   "execution_count": 10,
   "metadata": {},
   "outputs": [
    {
     "name": "stderr",
     "output_type": "stream",
     "text": [
      "100%|██████████| 20404/20404 [29:14<00:00, 11.63it/s]\n"
     ]
    }
   ],
   "source": [
    "Y_pred = []\n",
    "for i in tqdm(range(len(X_test))):\n",
    "  Y_pred.extend(model.predict(X_test[i], verbose=0).tolist())"
   ]
  },
  {
   "cell_type": "code",
   "execution_count": 11,
   "metadata": {},
   "outputs": [
    {
     "name": "stderr",
     "output_type": "stream",
     "text": [
      "100%|██████████| 20404/20404 [00:00<00:00, 1307212.36it/s]\n"
     ]
    }
   ],
   "source": [
    "Y_true = []\n",
    "for i in tqdm(range(len(Y_test))):\n",
    "    Y_true.extend(Y_test[i])"
   ]
  },
  {
   "cell_type": "code",
   "execution_count": 12,
   "metadata": {},
   "outputs": [
    {
     "name": "stdout",
     "output_type": "stream",
     "text": [
      "MSE: 20.0386 \n",
      " MAE: 3.0948 \n",
      " R^2 0.9126696533226689\n"
     ]
    }
   ],
   "source": [
    "print(f\"MSE: {mean_squared_error(Y_true, Y_pred):.4f} \\n MAE: {mean_absolute_error(Y_true, Y_pred):.4f} \\n R^2 {r2_score(Y_true, Y_pred)}\")"
   ]
  },
  {
   "cell_type": "code",
   "execution_count": 13,
   "metadata": {},
   "outputs": [
    {
     "name": "stdout",
     "output_type": "stream",
     "text": [
      "Model: \"sequential\"\n",
      "_________________________________________________________________\n",
      " Layer (type)                Output Shape              Param #   \n",
      "=================================================================\n",
      " simple_rnn (SimpleRNN)      (None, 80)                6560      \n",
      "                                                                 \n",
      " dense (Dense)               (None, 1)                 81        \n",
      "                                                                 \n",
      "=================================================================\n",
      "Total params: 6641 (25.94 KB)\n",
      "Trainable params: 6641 (25.94 KB)\n",
      "Non-trainable params: 0 (0.00 Byte)\n",
      "_________________________________________________________________\n"
     ]
    }
   ],
   "source": [
    "model.summary()"
   ]
  },
  {
   "cell_type": "markdown",
   "metadata": {},
   "source": [
    "Model RNN tiếp theo"
   ]
  },
  {
   "cell_type": "code",
   "execution_count": null,
   "metadata": {},
   "outputs": [],
   "source": [
    "\n",
    "model = tf.keras.Sequential([\n",
    "    tf.keras.layers.SimpleRNN(50, activation='relu', \n",
    "                              input_shape=(None, 1)),\n",
    "    tf.keras.layers.Dense(1)  \n",
    "])\n",
    "\n",
    "\n",
    "model.compile(optimizer='adam', loss='mse')"
   ]
  },
  {
   "cell_type": "code",
   "execution_count": null,
   "metadata": {},
   "outputs": [],
   "source": [
    "for _ in range(4):\n",
    "    loss=0\n",
    "    for i in tqdm(range(len(X_train_new))):\n",
    "        hist =  model.fit(X_train_new[i], Y_train_new[i], epochs=1, verbose = 0)\n",
    "        loss += hist.history['loss'][0]\n",
    "    print(loss/len(X_train))\n",
    "    \n",
    "model.save('D:/Học tập/Học kì 20231/Hệ hĩnh trợ quyết độ/DMC_2017_task/RNN1.h5', save_format='h5')  \n",
    "\n",
    "Y_pred = []\n",
    "for i in tqdm(range(len(X_test))):\n",
    "    Y_pred.extend(model.predict(X_test[i], verbose=0).tolist())\n",
    "Y_true = []\n",
    "for i in tqdm(range(len(Y_test))):\n",
    "    Y_true.extend(Y_test[i])\n",
    "print(f\"MSE: {mean_squared_error(Y_true, Y_pred):.4f} \\n MAE: {mean_absolute_error(Y_true, Y_pred):.4f} \\n R^2 {r2_score(Y_true, Y_pred)}\")"
   ]
  }
 ],
 "metadata": {
  "kernelspec": {
   "display_name": "Python 3",
   "language": "python",
   "name": "python3"
  },
  "language_info": {
   "codemirror_mode": {
    "name": "ipython",
    "version": 3
   },
   "file_extension": ".py",
   "mimetype": "text/x-python",
   "name": "python",
   "nbconvert_exporter": "python",
   "pygments_lexer": "ipython3",
   "version": "3.10.9"
  }
 },
 "nbformat": 4,
 "nbformat_minor": 2
}
