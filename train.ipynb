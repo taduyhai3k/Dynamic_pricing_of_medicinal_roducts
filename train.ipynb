{
 "cells": [
  {
   "cell_type": "code",
   "execution_count": null,
   "metadata": {},
   "outputs": [],
   "source": [
    "import pandas as pd\n",
    "from sklearn.ensemble import RandomForestRegressor, RandomForestClassifier\n",
    "from sklearn.tree import DecisionTreeRegressor\n",
    "from sklearn.linear_model import LinearRegression\n",
    "from sklearn.model_selection import train_test_split, GridSearchCV\n",
    "from sklearn.metrics import mean_squared_error, mean_absolute_error, r2_score\n",
    "from sklearn.preprocessing import LabelEncoder\n",
    "import numpy as np\n",
    "import seaborn as sns"
   ]
  },
  {
   "cell_type": "code",
   "execution_count": null,
   "metadata": {},
   "outputs": [],
   "source": [
    "item =  pd.read_csv(\"DMC_2017_task/items.csv\", sep = \"|\")\n",
    "item.drop_duplicates(keep='first', inplace=True)\n",
    "item['pharmForm'] = item['pharmForm'].str.upper()\n",
    "\n",
    "train  = pd.read_csv(\"DMC_2017_task/train.csv\", sep = \"|\")\n",
    "\n",
    "mytrain = train.drop(['lineID', 'revenue'], axis =1)\n",
    "mytrain = mytrain.merge(item, on = 'pid')"
   ]
  },
  {
   "cell_type": "code",
   "execution_count": null,
   "metadata": {},
   "outputs": [],
   "source": [
    "features_use = ['rrp', 'competitorPrice', 'click', 'basket', 'order', 'price']\n",
    "mytrain2 = mytrain[features_use] "
   ]
  },
  {
   "cell_type": "code",
   "execution_count": null,
   "metadata": {},
   "outputs": [],
   "source": [
    "print(f\"len of mytrain is {len(mytrain)}\")\n",
    "\n",
    "mytrain2.drop_duplicates(keep = 'first', inplace = True)\n",
    "print(f\"len of mytrain after drop duplicates is {len(mytrain2)}\")\n",
    "mytrain2.info()"
   ]
  },
  {
   "cell_type": "code",
   "execution_count": null,
   "metadata": {},
   "outputs": [],
   "source": [
    "# #Loại bỏ cột campaignIndex \n",
    "# #Bổ sung các giá trị bị thiếu\n",
    "# mytrain2 = mytrain.drop(['campaignIndex'], axis=1)\n",
    "# object_columns = [col for col in mytrain1.columns if mytrain1[col].dtype == 'O']\n",
    "# label_encoder = LabelEncoder()\n",
    "# for col in object_columns:\n",
    "#     mytrain2[col] = label_encoder.fit_transform(mytrain1[col])\n",
    "mytrain2 = mytrain2.fillna(0)\n",
    "# mytrain1.info()"
   ]
  },
  {
   "cell_type": "code",
   "execution_count": null,
   "metadata": {},
   "outputs": [],
   "source": [
    "# features_use = ['rrp', 'competitorPrice', 'click', 'basket', 'order', 'price']\n",
    "# mytrain2 = mytrain1[features_use] "
   ]
  },
  {
   "cell_type": "code",
   "execution_count": null,
   "metadata": {},
   "outputs": [],
   "source": [
    "mytrain2"
   ]
  },
  {
   "cell_type": "code",
   "execution_count": null,
   "metadata": {},
   "outputs": [],
   "source": [
    "X_train, X_test, Y_train, Y_test = train_test_split(mytrain2.drop(['price'], axis = 1), mytrain2['price'], test_size= 0.2, random_state=42)"
   ]
  },
  {
   "cell_type": "code",
   "execution_count": null,
   "metadata": {},
   "outputs": [],
   "source": [
    "reg = LinearRegression().fit(X_train, Y_train)\n",
    "Y_pred = reg.predict(X_test)\n",
    "print(f\"MSE: {mean_squared_error(Y_test, Y_pred):.4f} \\n MAE: {mean_absolute_error(Y_test, Y_pred):.4f} \\n R^2 {r2_score(Y_test, Y_pred)}\")"
   ]
  },
  {
   "cell_type": "code",
   "execution_count": null,
   "metadata": {},
   "outputs": [],
   "source": [
    "dtr = DecisionTreeRegressor().fit(X_train, Y_train)\n",
    "Y_pred = dtr.predict(X_test)\n",
    "print(f\"MSE: {mean_squared_error(Y_test, Y_pred):.4f} \\n MAE: {mean_absolute_error(Y_test, Y_pred):.4f} \\n R^2 {r2_score(Y_test, Y_pred)}\")"
   ]
  },
  {
   "cell_type": "code",
   "execution_count": null,
   "metadata": {},
   "outputs": [],
   "source": [
    "dtr = DecisionTreeRegressor(min_impurity_decrease=0.0005, random_state=42).fit(X_train, Y_train)\n",
    "Y_pred = dtr.predict(X_test)\n",
    "print(f\"MSE: {mean_squared_error(Y_test, Y_pred):.4f} \\n MAE: {mean_absolute_error(Y_test, Y_pred):.4f} \\n R^2 {r2_score(Y_test, Y_pred)}\")"
   ]
  },
  {
   "cell_type": "code",
   "execution_count": null,
   "metadata": {},
   "outputs": [],
   "source": [
    "ranfor_re1 = RandomForestRegressor(random_state=42)\n",
    "ranfor_re1.fit(X_train, Y_train)\n",
    "Y_pred = ranfor_re1.predict(X_test)\n",
    "print(f\"MSE: {mean_squared_error(Y_test, Y_pred):.4f} \\n MAE: {mean_absolute_error(Y_test, Y_pred):.4f} \\n R^2 {r2_score(Y_test, Y_pred)}\")"
   ]
  },
  {
   "cell_type": "code",
   "execution_count": null,
   "metadata": {},
   "outputs": [],
   "source": [
    "ranfor_re2 = RandomForestRegressor(max_depth= 50, min_samples_leaf=2, min_samples_split=4, random_state=42)\n",
    "ranfor_re2.fit(X_train, Y_train)\n",
    "Y2_pred = ranfor_re2.predict(X_test)\n",
    "print(f\"MSE: {mean_squared_error(Y_test, Y2_pred):.4f} \\n MAE: {mean_absolute_error(Y_test, Y2_pred):.4f} \\n R^2 {r2_score(Y_test, Y2_pred)}\")"
   ]
  },
  {
   "cell_type": "code",
   "execution_count": null,
   "metadata": {},
   "outputs": [],
   "source": [
    "ranfor_re3 = RandomForestRegressor(max_depth= 30, min_samples_leaf=2, min_samples_split=4, random_state=42)\n",
    "ranfor_re3.fit(X_train, Y_train)\n",
    "Y3_pred = ranfor_re3.predict(X_test)\n",
    "print(f\"MSE: {mean_squared_error(Y_test, Y3_pred):.4f} \\n MAE: {mean_absolute_error(Y_test, Y3_pred):.4f} \\n R^2 {r2_score(Y_test, Y3_pred)}\")"
   ]
  },
  {
   "cell_type": "code",
   "execution_count": null,
   "metadata": {},
   "outputs": [],
   "source": [
    "ranfor_re4 = RandomForestRegressor(max_depth= 25, min_samples_leaf=4, min_samples_split=6, random_state=42)\n",
    "ranfor_re4.fit(X_train, Y_train)\n",
    "Y4_pred = ranfor_re4.predict(X_test)\n",
    "print(f\"MSE: {mean_squared_error(Y_test, Y4_pred):.4f} \\n MAE: {mean_absolute_error(Y_test, Y4_pred):.4f} \\n R^2 {r2_score(Y_test, Y4_pred)}\")"
   ]
  },
  {
   "cell_type": "markdown",
   "metadata": {},
   "source": [
    "RandomForestClass"
   ]
  },
  {
   "cell_type": "code",
   "execution_count": null,
   "metadata": {},
   "outputs": [],
   "source": [
    "num_bins = 800  # Số lượng lớp bạn muốn chia\n",
    "bins = np.linspace(min(Y_train), max(Y_train), num_bins)  # Tạo các khoảng\n",
    "Y_train_discrete = np.digitize(Y_train, bins)  # Chuyển đổi nhãn thành các lớp\n",
    "min_Y = min(Y_train)\n",
    "max_Y = max(Y_train)\n"
   ]
  },
  {
   "cell_type": "code",
   "execution_count": null,
   "metadata": {},
   "outputs": [],
   "source": [
    "max_Y"
   ]
  },
  {
   "cell_type": "code",
   "execution_count": null,
   "metadata": {},
   "outputs": [],
   "source": [
    "ranfor_cl1 = RandomForestClassifier(n_estimators = 25, max_depth= 25, random_state=42, min_samples_split=8, min_samples_leaf=4)\n",
    "ranfor_cl1.fit(X_train, Y_train_discrete)\n",
    "Y_cl1_pred = ranfor_cl1.predict(X_test)\n",
    "Y_cl1_pred = np.array(Y_cl1_pred, dtype = float)\n",
    "for i in range(len(Y_cl1_pred)):\n",
    "    Y_cl1_pred[i] = Y_cl1_pred[i]*(max_Y - min_Y)/num_bins -1/2* (max_Y - min_Y)/num_bins \n",
    "print(f\"MSE: {mean_squared_error(Y_test, Y_cl1_pred):.4f} \\n MAE: {mean_absolute_error(Y_test, Y_cl1_pred):.4f} \\n R^2 {r2_score(Y_test, Y_cl1_pred)}\")"
   ]
  },
  {
   "cell_type": "code",
   "execution_count": null,
   "metadata": {},
   "outputs": [],
   "source": [
    "ranfor_cl2 = RandomForestClassifier(n_estimators = 50,max_depth= 50, random_state=42, min_samples_split=4, min_samples_leaf=2, bootstrap=True, max_samples=50000)\n",
    "ranfor_cl2.fit(X_train, Y_train_discrete)\n",
    "Y_cl2_pred = ranfor_cl2.predict(X_test)\n",
    "Y_cl2_pred = np.array(Y_cl2_pred, dtype = float)\n",
    "for i in range(len(Y_cl2_pred)):\n",
    "    Y_cl2_pred[i] = Y_cl2_pred[i]*(max_Y - min_Y)/num_bins -1/2* (max_Y - min_Y)/num_bins \n",
    "print(f\"MSE: {mean_squared_error(Y_test, Y_cl2_pred):.4f} \\n MAE: {mean_absolute_error(Y_test, Y_cl2_pred):.4f} \\n R^2 {r2_score(Y_test, Y_cl2_pred)}\")"
   ]
  },
  {
   "cell_type": "code",
   "execution_count": null,
   "metadata": {},
   "outputs": [],
   "source": [
    "import tensorflow as tf\n",
    "\n",
    "# Kiểm tra xem TensorFlow có hỗ trợ GPU (CUDA) không\n",
    "print(\"Num GPUs Available: \", len(tf.config.experimental.list_physical_devices('GPU')))\n",
    "\n",
    "# In thông tin chi tiết về GPU (nếu có)\n",
    "physical_devices = tf.config.list_physical_devices('GPU')\n",
    "if physical_devices:\n",
    "    for device in physical_devices:\n",
    "        print(\"Name:\", device.name, \"Type:\", device.device_type)\n",
    "else:\n",
    "    print(\"No GPU devices found.\")\n"
   ]
  },
  {
   "cell_type": "code",
   "execution_count": null,
   "metadata": {},
   "outputs": [],
   "source": [
    "import tensorflow as tf\n",
    "from tensorflow import keras\n",
    "from sklearn.model_selection import train_test_split\n",
    "from sklearn.preprocessing import StandardScaler\n",
    "\n",
    "# Xây dựng mô hình kết hợp LSTM, Dropout, Dense, BatchNormalization và AveragePooling\n",
    "model = keras.Sequential([\n",
    "    keras.layers.Dense(512, input_shape=(X_train.shape[1],), activation='relu'),\n",
    "    keras.layers.LayerNormalization(),\n",
    "    keras.layers.Dropout(0.2),\n",
    "\n",
    "    keras.layers.Dense(126, activation='relu'),\n",
    "    keras.layers.LayerNormalization(),\n",
    "    keras.layers.Dropout(0.2),\n",
    "    \n",
    "    keras.layers.Dense(64, activation='relu'),\n",
    "    keras.layers.LayerNormalization(),\n",
    "    keras.layers.Dropout(0.2),\n",
    "    \n",
    "    keras.layers.Dense(32, activation='relu'),\n",
    "    keras.layers.LayerNormalization(),\n",
    "\n",
    "    keras.layers.Dense(1)\n",
    "])\n",
    "\n",
    "# Biên dịch mô hình\n",
    "model.compile(optimizer='adam', loss=tf.keras.losses.MeanSquaredError())\n"
   ]
  },
  {
   "cell_type": "code",
   "execution_count": null,
   "metadata": {},
   "outputs": [],
   "source": [
    "X_train.shape[1],"
   ]
  },
  {
   "cell_type": "code",
   "execution_count": null,
   "metadata": {},
   "outputs": [],
   "source": [
    "history = model.fit(X_train, Y_train, epochs=100, batch_size=2048, validation_data=(X_test, Y_test))"
   ]
  },
  {
   "cell_type": "code",
   "execution_count": null,
   "metadata": {},
   "outputs": [],
   "source": [
    "model.save('model/NN1.3')"
   ]
  },
  {
   "cell_type": "code",
   "execution_count": null,
   "metadata": {},
   "outputs": [],
   "source": [
    "model.summary()"
   ]
  },
  {
   "cell_type": "code",
   "execution_count": null,
   "metadata": {},
   "outputs": [],
   "source": [
    "# Đánh giá mô hình trên dữ liệu kiểm tra\n",
    "pred = model.predict(X_test)\n",
    "# print(\"Mean Squared Error:\", mse)\n",
    "# print(\"Mean Absolute Error:\", mae)"
   ]
  },
  {
   "cell_type": "code",
   "execution_count": null,
   "metadata": {},
   "outputs": [],
   "source": [
    "print(f\"MSE: {mean_squared_error(Y_test, pred):.4f} \\n MAE: {mean_absolute_error(Y_test, pred):.4f} \\n R^2 {r2_score(Y_test, pred)}\")"
   ]
  },
  {
   "cell_type": "code",
   "execution_count": null,
   "metadata": {},
   "outputs": [],
   "source": [
    "print(f\"MSE: {mean_squared_error(Y_test, pred):.4f} \\n MAE: {mean_absolute_error(Y_test, pred):.4f} \\n R^2 {r2_score(Y_test, pred)}\")"
   ]
  },
  {
   "cell_type": "code",
   "execution_count": null,
   "metadata": {},
   "outputs": [],
   "source": []
  }
 ],
 "metadata": {
  "kernelspec": {
   "display_name": "Python 3",
   "language": "python",
   "name": "python3"
  },
  "language_info": {
   "codemirror_mode": {
    "name": "ipython",
    "version": 3
   },
   "file_extension": ".py",
   "mimetype": "text/x-python",
   "name": "python",
   "nbconvert_exporter": "python",
   "pygments_lexer": "ipython3",
   "version": "3.10.9"
  }
 },
 "nbformat": 4,
 "nbformat_minor": 2
}
